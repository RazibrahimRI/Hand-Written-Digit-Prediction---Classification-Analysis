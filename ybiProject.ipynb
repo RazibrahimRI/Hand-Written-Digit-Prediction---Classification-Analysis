{
  "nbformat": 4,
  "nbformat_minor": 0,
  "metadata": {
    "colab": {
      "provenance": [],
      "authorship_tag": "ABX9TyOuyxqMwg9DtmhpTcw1G40Y",
      "include_colab_link": true
    },
    "kernelspec": {
      "name": "python3",
      "display_name": "Python 3"
    },
    "language_info": {
      "name": "python"
    }
  },
  "cells": [
    {
      "cell_type": "markdown",
      "metadata": {
        "id": "view-in-github",
        "colab_type": "text"
      },
      "source": [
        "<a href=\"https://colab.research.google.com/github/RazibrahimRI/Hand-Written-Digit-Prediction---Classification-Analysis/blob/main/ybiProject.ipynb\" target=\"_parent\"><img src=\"https://colab.research.google.com/assets/colab-badge.svg\" alt=\"Open In Colab\"/></a>"
      ]
    },
    {
      "cell_type": "markdown",
      "source": [
        "# Hand Written Digit Prediction - Classification Analysis"
      ],
      "metadata": {
        "id": "il9T4QOl1h2E"
      }
    },
    {
      "cell_type": "markdown",
      "source": [
        "**The digits dataset consists of 8x8 pixel image of digits.The images attribute of the dataset store 8x8 arrays of grayscale values for each image. We will use these arrays to visualize the first 4 images.The target attribute of the dataset stores the digit each image represents**\n"
      ],
      "metadata": {
        "id": "qfpZCBSI1lbG"
      }
    },
    {
      "cell_type": "markdown",
      "source": [
        "# Import Library"
      ],
      "metadata": {
        "id": "ZAQC0yol3ie_"
      }
    },
    {
      "cell_type": "code",
      "source": [
        "import pandas as pd"
      ],
      "metadata": {
        "id": "tMxJMO4U1k1X"
      },
      "execution_count": null,
      "outputs": []
    },
    {
      "cell_type": "code",
      "source": [
        "import numpy as np"
      ],
      "metadata": {
        "id": "ZOLFPiKo3w-j"
      },
      "execution_count": null,
      "outputs": []
    },
    {
      "cell_type": "code",
      "source": [
        "import matplotlib.pyplot as plt"
      ],
      "metadata": {
        "id": "ankjzEjP3w06"
      },
      "execution_count": null,
      "outputs": []
    },
    {
      "cell_type": "markdown",
      "source": [
        "# Import Data"
      ],
      "metadata": {
        "id": "DxZzyWuR3x4v"
      }
    },
    {
      "cell_type": "code",
      "source": [
        "from sklearn.datasets import load_digits"
      ],
      "metadata": {
        "id": "6M_io9qe3wqT"
      },
      "execution_count": null,
      "outputs": []
    },
    {
      "cell_type": "code",
      "source": [
        "df = load_digits()"
      ],
      "metadata": {
        "id": "E-pyicmJ4Hir"
      },
      "execution_count": null,
      "outputs": []
    },
    {
      "cell_type": "code",
      "source": [
        "_, axes = plt.subplots(nrows=1, ncols=4, figsize=(10, 3))\n",
        "for ax, image, label in zip(axes, df.images, df.target):\n",
        "  ax.set_axis_off()\n",
        "  ax.imshow(image, cmap=plt.cm.gray_r, interpolation=\"nearest\")\n",
        "  ax.set_title(\"Training: %i\" % label)"
      ],
      "metadata": {
        "id": "dqS5B_EO4HVO",
        "colab": {
          "base_uri": "https://localhost:8080/",
          "height": 187
        },
        "outputId": "b01aa7c4-edcb-40f0-9f4d-074201862437"
      },
      "execution_count": null,
      "outputs": [
        {
          "output_type": "display_data",
          "data": {
            "text/plain": [
              "<Figure size 1000x300 with 4 Axes>"
            ],
            "image/png": "[encoded data removed]"
          },
          "metadata": {}
        }
      ]
    },
    {
      "cell_type": "markdown",
      "source": [
        "# Data Preprocessing"
      ],
      "metadata": {
        "id": "qAoZw0gX5nQ1"
      }
    },
    {
      "cell_type": "markdown",
      "source": [
        "**Flatten Image**\n",
        "# 8 x 8 Image"
      ],
      "metadata": {
        "id": "EzvghkCH5s-b"
      }
    },
    {
      "cell_type": "markdown",
      "source": [
        "![Screenshot 2024-07-28 204349.png](data:image/png;base64,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)"
      ],
      "metadata": {
        "id": "pRAz43Ep64-R"
      }
    },
    {
      "cell_type": "markdown",
      "source": [
        "## **Flatten Image**\n",
        "\n"
      ],
      "metadata": {
        "id": "8nIh9jYu7MaE"
      }
    },
    {
      "cell_type": "markdown",
      "source": [
        "![image.png](data:image/png;base64,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)"
      ],
      "metadata": {
        "id": "F9S5E4ik7bos"
      }
    },
    {
      "cell_type": "code",
      "source": [
        "df.images.shape"
      ],
      "metadata": {
        "colab": {
          "base_uri": "https://localhost:8080/"
        },
        "id": "x1qTd4h-7MEo",
        "outputId": "82c58b28-ee01-4e1e-92d7-c677b4506b4b"
      },
      "execution_count": null,
      "outputs": [
        {
          "output_type": "execute_result",
          "data": {
            "text/plain": [
              "(1797, 8, 8)"
            ]
          },
          "metadata": {},
          "execution_count": 10
        }
      ]
    },
    {
      "cell_type": "code",
      "source": [
        "df.images[0]"
      ],
      "metadata": {
        "id": "iObRaNmx5rdP",
        "colab": {
          "base_uri": "https://localhost:8080/"
        },
        "outputId": "5270d798-3deb-4195-acf6-91c1158d0121"
      },
      "execution_count": null,
      "outputs": [
        {
          "output_type": "execute_result",
          "data": {
            "text/plain": [
              "array([[ 0.,  0.,  5., 13.,  9.,  1.,  0.,  0.],\n",
              "       [ 0.,  0., 13., 15., 10., 15.,  5.,  0.],\n",
              "       [ 0.,  3., 15.,  2.,  0., 11.,  8.,  0.],\n",
              "       [ 0.,  4., 12.,  0.,  0.,  8.,  8.,  0.],\n",
              "       [ 0.,  5.,  8.,  0.,  0.,  9.,  8.,  0.],\n",
              "       [ 0.,  4., 11.,  0.,  1., 12.,  7.,  0.],\n",
              "       [ 0.,  2., 14.,  5., 10., 12.,  0.,  0.],\n",
              "       [ 0.,  0.,  6., 13., 10.,  0.,  0.,  0.]])"
            ]
          },
          "metadata": {},
          "execution_count": 11
        }
      ]
    },
    {
      "cell_type": "code",
      "source": [
        "df.images[0].shape"
      ],
      "metadata": {
        "colab": {
          "base_uri": "https://localhost:8080/"
        },
        "id": "WkzM1RmT61JV",
        "outputId": "cc0c0730-8170-4a3a-ecce-ba146964c997"
      },
      "execution_count": null,
      "outputs": [
        {
          "output_type": "execute_result",
          "data": {
            "text/plain": [
              "(8, 8)"
            ]
          },
          "metadata": {},
          "execution_count": 12
        }
      ]
    },
    {
      "cell_type": "code",
      "source": [
        "len(df.images)"
      ],
      "metadata": {
        "colab": {
          "base_uri": "https://localhost:8080/"
        },
        "id": "UTrXV0BZ7r64",
        "outputId": "550a4212-2932-4ebc-c594-bf86fb2b7210"
      },
      "execution_count": null,
      "outputs": [
        {
          "output_type": "execute_result",
          "data": {
            "text/plain": [
              "1797"
            ]
          },
          "metadata": {},
          "execution_count": 13
        }
      ]
    },
    {
      "cell_type": "code",
      "source": [
        "n_samples = len(df.images)\n",
        "data = df.images.reshape((n_samples, -1))"
      ],
      "metadata": {
        "id": "PjaIHZJY7vk6"
      },
      "execution_count": null,
      "outputs": []
    },
    {
      "cell_type": "code",
      "source": [
        "data[0]"
      ],
      "metadata": {
        "colab": {
          "base_uri": "https://localhost:8080/"
        },
        "id": "stJmOp4v7wa4",
        "outputId": "e55b1b7f-28bf-4e5d-a779-ae28c05499dd"
      },
      "execution_count": null,
      "outputs": [
        {
          "output_type": "execute_result",
          "data": {
            "text/plain": [
              "array([ 0.,  0.,  5., 13.,  9.,  1.,  0.,  0.,  0.,  0., 13., 15., 10.,\n",
              "       15.,  5.,  0.,  0.,  3., 15.,  2.,  0., 11.,  8.,  0.,  0.,  4.,\n",
              "       12.,  0.,  0.,  8.,  8.,  0.,  0.,  5.,  8.,  0.,  0.,  9.,  8.,\n",
              "        0.,  0.,  4., 11.,  0.,  1., 12.,  7.,  0.,  0.,  2., 14.,  5.,\n",
              "       10., 12.,  0.,  0.,  0.,  0.,  6., 13., 10.,  0.,  0.,  0.])"
            ]
          },
          "metadata": {},
          "execution_count": 15
        }
      ]
    },
    {
      "cell_type": "code",
      "source": [
        "data[0].shape"
      ],
      "metadata": {
        "colab": {
          "base_uri": "https://localhost:8080/"
        },
        "id": "WQQywzxY79qS",
        "outputId": "78901cb6-6282-450c-e07c-85fef2ac4a16"
      },
      "execution_count": null,
      "outputs": [
        {
          "output_type": "execute_result",
          "data": {
            "text/plain": [
              "(64,)"
            ]
          },
          "metadata": {},
          "execution_count": 16
        }
      ]
    },
    {
      "cell_type": "code",
      "source": [
        "data.shape\n"
      ],
      "metadata": {
        "colab": {
          "base_uri": "https://localhost:8080/"
        },
        "id": "93wiGVEz8DQz",
        "outputId": "c5e02c90-e1d1-4485-e457-68209b254879"
      },
      "execution_count": null,
      "outputs": [
        {
          "output_type": "execute_result",
          "data": {
            "text/plain": [
              "(1797, 64)"
            ]
          },
          "metadata": {},
          "execution_count": 17
        }
      ]
    },
    {
      "cell_type": "markdown",
      "source": [
        "# Scaling Image Data"
      ],
      "metadata": {
        "id": "O7Xk6KPR8GE8"
      }
    },
    {
      "cell_type": "code",
      "source": [
        "data.min()"
      ],
      "metadata": {
        "colab": {
          "base_uri": "https://localhost:8080/"
        },
        "id": "cazHhid-8FWv",
        "outputId": "488acb68-cf33-4f5a-ade0-0b71490bec5a"
      },
      "execution_count": null,
      "outputs": [
        {
          "output_type": "execute_result",
          "data": {
            "text/plain": [
              "0.0"
            ]
          },
          "metadata": {},
          "execution_count": 18
        }
      ]
    },
    {
      "cell_type": "code",
      "source": [
        "data.max()"
      ],
      "metadata": {
        "colab": {
          "base_uri": "https://localhost:8080/"
        },
        "id": "Mc5WlQMv8L02",
        "outputId": "4546c15f-73ac-4ffe-f2d7-f95b43be4e4d"
      },
      "execution_count": null,
      "outputs": [
        {
          "output_type": "execute_result",
          "data": {
            "text/plain": [
              "16.0"
            ]
          },
          "metadata": {},
          "execution_count": 20
        }
      ]
    },
    {
      "cell_type": "code",
      "source": [
        "data = data/16"
      ],
      "metadata": {
        "id": "TEQBDjW38FNn"
      },
      "execution_count": null,
      "outputs": []
    },
    {
      "cell_type": "code",
      "source": [
        "data.min()"
      ],
      "metadata": {
        "colab": {
          "base_uri": "https://localhost:8080/"
        },
        "id": "laeavjdJ8SWp",
        "outputId": "6174543f-04ba-4477-9245-ec696e783e3a"
      },
      "execution_count": null,
      "outputs": [
        {
          "output_type": "execute_result",
          "data": {
            "text/plain": [
              "0.0"
            ]
          },
          "metadata": {},
          "execution_count": 22
        }
      ]
    },
    {
      "cell_type": "code",
      "source": [
        "data.max()"
      ],
      "metadata": {
        "colab": {
          "base_uri": "https://localhost:8080/"
        },
        "id": "oKvTUWZf8R8M",
        "outputId": "fe820125-6bd5-4e73-946b-f9f9cfd1b9a2"
      },
      "execution_count": null,
      "outputs": [
        {
          "output_type": "execute_result",
          "data": {
            "text/plain": [
              "1.0"
            ]
          },
          "metadata": {},
          "execution_count": 23
        }
      ]
    },
    {
      "cell_type": "code",
      "source": [
        "data[0]"
      ],
      "metadata": {
        "colab": {
          "base_uri": "https://localhost:8080/"
        },
        "id": "kIbwV8EF8W0h",
        "outputId": "c51a8616-248e-419f-b532-bad4e39be7f5"
      },
      "execution_count": null,
      "outputs": [
        {
          "output_type": "execute_result",
          "data": {
            "text/plain": [
              "array([0.    , 0.    , 0.3125, 0.8125, 0.5625, 0.0625, 0.    , 0.    ,\n",
              "       0.    , 0.    , 0.8125, 0.9375, 0.625 , 0.9375, 0.3125, 0.    ,\n",
              "       0.    , 0.1875, 0.9375, 0.125 , 0.    , 0.6875, 0.5   , 0.    ,\n",
              "       0.    , 0.25  , 0.75  , 0.    , 0.    , 0.5   , 0.5   , 0.    ,\n",
              "       0.    , 0.3125, 0.5   , 0.    , 0.    , 0.5625, 0.5   , 0.    ,\n",
              "       0.    , 0.25  , 0.6875, 0.    , 0.0625, 0.75  , 0.4375, 0.    ,\n",
              "       0.    , 0.125 , 0.875 , 0.3125, 0.625 , 0.75  , 0.    , 0.    ,\n",
              "       0.    , 0.    , 0.375 , 0.8125, 0.625 , 0.    , 0.    , 0.    ])"
            ]
          },
          "metadata": {},
          "execution_count": 24
        }
      ]
    },
    {
      "cell_type": "markdown",
      "source": [
        "# Train Test Split Data"
      ],
      "metadata": {
        "id": "7FOFmYH28cYP"
      }
    },
    {
      "cell_type": "code",
      "source": [
        "from sklearn.model_selection import train_test_split"
      ],
      "metadata": {
        "id": "dOxwExco8gsm"
      },
      "execution_count": null,
      "outputs": []
    },
    {
      "cell_type": "code",
      "source": [
        "x_train,x_test,y_train,y_test=train_test_split(data, df.target, test_size=0.3)"
      ],
      "metadata": {
        "id": "7yF0B5OS8glM"
      },
      "execution_count": null,
      "outputs": []
    },
    {
      "cell_type": "code",
      "source": [
        "x_train.shape, x_test.shape, y_train.shape, y_test.shape"
      ],
      "metadata": {
        "colab": {
          "base_uri": "https://localhost:8080/"
        },
        "id": "jO3V-8h_8gKu",
        "outputId": "dbe41a38-1e1a-41f8-9218-268e2bc01ce4"
      },
      "execution_count": null,
      "outputs": [
        {
          "output_type": "execute_result",
          "data": {
            "text/plain": [
              "((1257, 64), (540, 64), (1257,), (540,))"
            ]
          },
          "metadata": {},
          "execution_count": 27
        }
      ]
    },
    {
      "cell_type": "markdown",
      "source": [
        "# Random Forest Model"
      ],
      "metadata": {
        "id": "14GAQH6Q9Q-u"
      }
    },
    {
      "cell_type": "code",
      "source": [
        "from sklearn.ensemble import RandomForestClassifier"
      ],
      "metadata": {
        "id": "IDrV0HCG9VEF"
      },
      "execution_count": null,
      "outputs": []
    },
    {
      "cell_type": "code",
      "source": [
        "rf = RandomForestClassifier()"
      ],
      "metadata": {
        "id": "1xtlz63U9VvI"
      },
      "execution_count": null,
      "outputs": []
    },
    {
      "cell_type": "code",
      "source": [
        "rf.fit(x_train,y_train)"
      ],
      "metadata": {
        "colab": {
          "base_uri": "https://localhost:8080/",
          "height": 74
        },
        "id": "KzuNTq4n9Vg9",
        "outputId": "1810ff1a-1d75-4727-aa6f-a5be1fa1c71f"
      },
      "execution_count": null,
      "outputs": [
        {
          "output_type": "execute_result",
          "data": {
            "text/plain": [
              "RandomForestClassifier()"
            ],
            "text/html": [
              "<style>#sk-container-id-1 {color: black;}#sk-container-id-1 pre{padding: 0;}#sk-container-id-1 div.sk-toggleable {background-color: white;}#sk-container-id-1 label.sk-toggleable__label {cursor: pointer;display: block;width: 100%;margin-bottom: 0;padding: 0.3em;box-sizing: border-box;text-align: center;}#sk-container-id-1 label.sk-toggleable__label-arrow:before {content: \"▸\";float: left;margin-right: 0.25em;color: #696969;}#sk-container-id-1 label.sk-toggleable__label-arrow:hover:before {color: black;}#sk-container-id-1 div.sk-estimator:hover label.sk-toggleable__label-arrow:before {color: black;}#sk-container-id-1 div.sk-toggleable__content {max-height: 0;max-width: 0;overflow: hidden;text-align: left;background-color: #f0f8ff;}#sk-container-id-1 div.sk-toggleable__content pre {margin: 0.2em;color: black;border-radius: 0.25em;background-color: #f0f8ff;}#sk-container-id-1 input.sk-toggleable__control:checked~div.sk-toggleable__content {max-height: 200px;max-width: 100%;overflow: auto;}#sk-container-id-1 input.sk-toggleable__control:checked~label.sk-toggleable__label-arrow:before {content: \"▾\";}#sk-container-id-1 div.sk-estimator input.sk-toggleable__control:checked~label.sk-toggleable__label {background-color: #d4ebff;}#sk-container-id-1 div.sk-label input.sk-toggleable__control:checked~label.sk-toggleable__label {background-color: #d4ebff;}#sk-container-id-1 input.sk-hidden--visually {border: 0;clip: rect(1px 1px 1px 1px);clip: rect(1px, 1px, 1px, 1px);height: 1px;margin: -1px;overflow: hidden;padding: 0;position: absolute;width: 1px;}#sk-container-id-1 div.sk-estimator {font-family: monospace;background-color: #f0f8ff;border: 1px dotted black;border-radius: 0.25em;box-sizing: border-box;margin-bottom: 0.5em;}#sk-container-id-1 div.sk-estimator:hover {background-color: #d4ebff;}#sk-container-id-1 div.sk-parallel-item::after {content: \"\";width: 100%;border-bottom: 1px solid gray;flex-grow: 1;}#sk-container-id-1 div.sk-label:hover label.sk-toggleable__label {background-color: #d4ebff;}#sk-container-id-1 div.sk-serial::before {content: \"\";position: absolute;border-left: 1px solid gray;box-sizing: border-box;top: 0;bottom: 0;left: 50%;z-index: 0;}#sk-container-id-1 div.sk-serial {display: flex;flex-direction: column;align-items: center;background-color: white;padding-right: 0.2em;padding-left: 0.2em;position: relative;}#sk-container-id-1 div.sk-item {position: relative;z-index: 1;}#sk-container-id-1 div.sk-parallel {display: flex;align-items: stretch;justify-content: center;background-color: white;position: relative;}#sk-container-id-1 div.sk-item::before, #sk-container-id-1 div.sk-parallel-item::before {content: \"\";position: absolute;border-left: 1px solid gray;box-sizing: border-box;top: 0;bottom: 0;left: 50%;z-index: -1;}#sk-container-id-1 div.sk-parallel-item {display: flex;flex-direction: column;z-index: 1;position: relative;background-color: white;}#sk-container-id-1 div.sk-parallel-item:first-child::after {align-self: flex-end;width: 50%;}#sk-container-id-1 div.sk-parallel-item:last-child::after {align-self: flex-start;width: 50%;}#sk-container-id-1 div.sk-parallel-item:only-child::after {width: 0;}#sk-container-id-1 div.sk-dashed-wrapped {border: 1px dashed gray;margin: 0 0.4em 0.5em 0.4em;box-sizing: border-box;padding-bottom: 0.4em;background-color: white;}#sk-container-id-1 div.sk-label label {font-family: monospace;font-weight: bold;display: inline-block;line-height: 1.2em;}#sk-container-id-1 div.sk-label-container {text-align: center;}#sk-container-id-1 div.sk-container {/* jupyter's `normalize.less` sets `[hidden] { display: none; }` but bootstrap.min.css set `[hidden] { display: none !important; }` so we also need the `!important` here to be able to override the default hidden behavior on the sphinx rendered scikit-learn.org. See: https://github.com/scikit-learn/scikit-learn/issues/21755 */display: inline-block !important;position: relative;}#sk-container-id-1 div.sk-text-repr-fallback {display: none;}</style><div id=\"sk-container-id-1\" class=\"sk-top-container\"><div class=\"sk-text-repr-fallback\"><pre>RandomForestClassifier()</pre><b>In a Jupyter environment, please rerun this cell to show the HTML representation or trust the notebook. <br />On GitHub, the HTML representation is unable to render, please try loading this page with nbviewer.org.</b></div><div class=\"sk-container\" hidden><div class=\"sk-item\"><div class=\"sk-estimator sk-toggleable\"><input class=\"sk-toggleable__control sk-hidden--visually\" id=\"sk-estimator-id-1\" type=\"checkbox\" checked><label for=\"sk-estimator-id-1\" class=\"sk-toggleable__label sk-toggleable__label-arrow\">RandomForestClassifier</label><div class=\"sk-toggleable__content\"><pre>RandomForestClassifier()</pre></div></div></div></div></div>"
            ]
          },
          "metadata": {},
          "execution_count": 30
        }
      ]
    },
    {
      "cell_type": "markdown",
      "source": [
        "# Predict Test Data\n"
      ],
      "metadata": {
        "id": "XypMjwGu9rkx"
      }
    },
    {
      "cell_type": "code",
      "source": [
        "y_pred = rf.predict(x_test)"
      ],
      "metadata": {
        "id": "mgtC_WFf9vdA"
      },
      "execution_count": null,
      "outputs": []
    },
    {
      "cell_type": "code",
      "source": [
        "y_pred"
      ],
      "metadata": {
        "colab": {
          "base_uri": "https://localhost:8080/"
        },
        "id": "C6n1aELh9wJK",
        "outputId": "b0b56fc6-1446-4636-a8ff-69557737fadb"
      },
      "execution_count": null,
      "outputs": [
        {
          "output_type": "execute_result",
          "data": {
            "text/plain": [
              "array([6, 0, 1, 7, 4, 9, 9, 8, 9, 7, 8, 6, 9, 8, 2, 7, 2, 5, 4, 6, 5, 3,\n",
              "       2, 4, 6, 2, 9, 3, 1, 5, 6, 9, 3, 5, 6, 3, 1, 0, 2, 7, 1, 9, 3, 1,\n",
              "       8, 5, 9, 2, 4, 1, 8, 2, 9, 4, 6, 7, 6, 5, 2, 2, 3, 2, 8, 8, 1, 6,\n",
              "       3, 6, 4, 2, 7, 3, 7, 1, 2, 5, 4, 1, 8, 0, 0, 7, 7, 4, 4, 8, 5, 5,\n",
              "       6, 2, 9, 0, 4, 4, 2, 9, 0, 1, 1, 8, 4, 7, 8, 8, 9, 9, 0, 2, 6, 8,\n",
              "       0, 6, 1, 4, 5, 3, 7, 1, 1, 7, 0, 9, 5, 0, 0, 0, 8, 6, 1, 4, 7, 0,\n",
              "       5, 8, 9, 7, 3, 5, 8, 0, 7, 4, 4, 2, 6, 7, 8, 4, 2, 6, 6, 5, 6, 4,\n",
              "       5, 1, 6, 3, 7, 5, 8, 8, 7, 6, 6, 9, 7, 1, 6, 1, 9, 7, 4, 8, 2, 5,\n",
              "       9, 1, 9, 3, 3, 9, 9, 4, 3, 5, 9, 5, 1, 5, 1, 5, 0, 9, 5, 5, 6, 4,\n",
              "       3, 8, 7, 4, 9, 2, 3, 5, 2, 5, 6, 6, 7, 7, 4, 3, 3, 7, 2, 5, 4, 2,\n",
              "       2, 6, 4, 3, 8, 7, 3, 1, 9, 5, 4, 1, 5, 3, 1, 1, 1, 7, 6, 3, 2, 0,\n",
              "       8, 0, 9, 0, 1, 8, 8, 0, 8, 3, 6, 2, 5, 1, 4, 7, 3, 3, 7, 6, 0, 1,\n",
              "       2, 7, 8, 2, 8, 0, 6, 5, 4, 8, 0, 8, 1, 1, 4, 7, 6, 2, 0, 7, 5, 0,\n",
              "       7, 9, 9, 7, 9, 5, 8, 4, 8, 5, 7, 8, 8, 0, 5, 8, 3, 1, 4, 7, 9, 3,\n",
              "       9, 8, 5, 0, 5, 7, 3, 4, 9, 6, 7, 3, 3, 9, 3, 6, 4, 5, 0, 8, 4, 0,\n",
              "       0, 0, 1, 1, 7, 6, 0, 8, 8, 1, 5, 5, 3, 2, 4, 8, 2, 6, 5, 5, 2, 8,\n",
              "       8, 2, 9, 1, 7, 1, 8, 7, 2, 5, 9, 5, 6, 5, 0, 2, 9, 0, 7, 2, 0, 7,\n",
              "       2, 7, 7, 4, 3, 2, 7, 3, 1, 8, 7, 9, 6, 9, 1, 2, 5, 7, 2, 7, 8, 2,\n",
              "       0, 0, 2, 4, 8, 4, 8, 5, 5, 0, 5, 5, 4, 4, 8, 2, 2, 7, 7, 8, 6, 6,\n",
              "       5, 7, 2, 1, 0, 7, 2, 5, 8, 3, 2, 1, 3, 3, 3, 6, 2, 7, 9, 2, 9, 5,\n",
              "       3, 9, 0, 6, 5, 1, 0, 3, 2, 3, 1, 0, 5, 0, 5, 0, 3, 9, 4, 6, 9, 0,\n",
              "       0, 0, 1, 6, 8, 0, 1, 0, 7, 4, 3, 7, 3, 5, 3, 7, 4, 1, 6, 3, 5, 5,\n",
              "       7, 0, 1, 8, 5, 7, 3, 6, 9, 3, 6, 6, 6, 2, 7, 5, 4, 9, 5, 7, 2, 9,\n",
              "       5, 8, 2, 3, 6, 0, 6, 6, 3, 1, 4, 4, 2, 5, 9, 1, 4, 2, 0, 1, 8, 4,\n",
              "       2, 2, 2, 5, 3, 0, 6, 3, 7, 2, 6, 8])"
            ]
          },
          "metadata": {},
          "execution_count": 32
        }
      ]
    },
    {
      "cell_type": "markdown",
      "source": [
        "# Model Accuracy"
      ],
      "metadata": {
        "id": "eayBjcbt96Gm"
      }
    },
    {
      "cell_type": "code",
      "source": [
        "from sklearn.metrics import confusion_matrix, classification_report"
      ],
      "metadata": {
        "id": "s4KaxsIo99Nm"
      },
      "execution_count": null,
      "outputs": []
    },
    {
      "cell_type": "code",
      "source": [
        "confusion_matrix(y_test, y_pred)"
      ],
      "metadata": {
        "colab": {
          "base_uri": "https://localhost:8080/"
        },
        "id": "Hn4r-yua99ng",
        "outputId": "5a5a312b-3384-4fe1-d964-fdbfc0cd78c0"
      },
      "execution_count": null,
      "outputs": [
        {
          "output_type": "execute_result",
          "data": {
            "text/plain": [
              "array([[52,  0,  0,  0,  0,  0,  0,  0,  0,  0],\n",
              "       [ 0, 48,  0,  0,  0,  0,  0,  0,  0,  0],\n",
              "       [ 0,  0, 58,  0,  0,  0,  0,  0,  0,  0],\n",
              "       [ 0,  0,  0, 50,  0,  0,  0,  1,  2,  0],\n",
              "       [ 0,  0,  0,  0, 47,  0,  0,  3,  1,  1],\n",
              "       [ 0,  0,  0,  0,  0, 63,  0,  0,  0,  0],\n",
              "       [ 0,  1,  0,  0,  0,  1, 53,  0,  0,  0],\n",
              "       [ 0,  0,  0,  0,  0,  0,  0, 57,  0,  0],\n",
              "       [ 0,  1,  0,  1,  1,  0,  0,  0, 52,  1],\n",
              "       [ 0,  0,  0,  1,  0,  0,  0,  0,  0, 45]])"
            ]
          },
          "metadata": {},
          "execution_count": 34
        }
      ]
    },
    {
      "cell_type": "code",
      "source": [
        "print(classification_report(y_test, y_pred))"
      ],
      "metadata": {
        "colab": {
          "base_uri": "https://localhost:8080/"
        },
        "id": "DonMVvl4993h",
        "outputId": "5cf941b5-518f-41c9-9c43-a81a5bcef599"
      },
      "execution_count": null,
      "outputs": [
        {
          "output_type": "stream",
          "name": "stdout",
          "text": [
            "              precision    recall  f1-score   support\n",
            "\n",
            "           0       1.00      1.00      1.00        52\n",
            "           1       0.96      1.00      0.98        48\n",
            "           2       1.00      1.00      1.00        58\n",
            "           3       0.96      0.94      0.95        53\n",
            "           4       0.98      0.90      0.94        52\n",
            "           5       0.98      1.00      0.99        63\n",
            "           6       1.00      0.96      0.98        55\n",
            "           7       0.93      1.00      0.97        57\n",
            "           8       0.95      0.93      0.94        56\n",
            "           9       0.96      0.98      0.97        46\n",
            "\n",
            "    accuracy                           0.97       540\n",
            "   macro avg       0.97      0.97      0.97       540\n",
            "weighted avg       0.97      0.97      0.97       540\n",
            "\n"
          ]
        }
      ]
    }
  ]
}